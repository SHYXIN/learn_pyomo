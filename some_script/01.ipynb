{
 "cells": [
  {
   "cell_type": "code",
   "execution_count": 1,
   "metadata": {},
   "outputs": [],
   "source": [
    "import pyomo.environ as pyo\n",
    "import mydata\n",
    "model = pyo.ConcreteModel()\n",
    "model.x = pyo.Var(mydata.N, within=pyo.NonNegativeReals)\n",
    "def obj_rule(model):\n",
    "    return sum(mydata.c[i]*model.x[i] for i in mydata.N)\n",
    "model.obj = pyo.Objective(rule=obj_rule)\n",
    "def con_rule(model, m):\n",
    "    return sum(mydata.a[m,i]*model.x[i] for i in mydata.N) >= mydata.b[m]\n",
    "model.con = pyo.Constraint(mydata.M, rule=con_rule)"
   ]
  },
  {
   "cell_type": "code",
   "execution_count": 4,
   "metadata": {},
   "outputs": [
    {
     "data": {
      "text/plain": [
       "<pyomo.core.base.PyomoModel.ConcreteModel at 0x1a9e4475728>"
      ]
     },
     "execution_count": 4,
     "metadata": {},
     "output_type": "execute_result"
    }
   ],
   "source": [
    "model."
   ]
  }
 ],
 "metadata": {
  "kernelspec": {
   "display_name": "Python 3 (ipykernel)",
   "language": "python",
   "name": "python3"
  },
  "language_info": {
   "codemirror_mode": {
    "name": "ipython",
    "version": 3
   },
   "file_extension": ".py",
   "mimetype": "text/x-python",
   "name": "python",
   "nbconvert_exporter": "python",
   "pygments_lexer": "ipython3",
   "version": "3.7.16"
  }
 },
 "nbformat": 4,
 "nbformat_minor": 4
}
